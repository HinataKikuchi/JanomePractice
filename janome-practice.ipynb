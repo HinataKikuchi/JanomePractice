{
 "metadata": {
  "language_info": {
   "codemirror_mode": {
    "name": "ipython",
    "version": 3
   },
   "file_extension": ".py",
   "mimetype": "text/x-python",
   "name": "python",
   "nbconvert_exporter": "python",
   "pygments_lexer": "ipython3",
   "version": "3.8.5-final"
  },
  "orig_nbformat": 2,
  "kernelspec": {
   "name": "python_defaultSpec_1601904747508",
   "display_name": "Python 3.8.5 32-bit",
   "metadata": {
    "interpreter": {
     "hash": "c6a654e7da9346571e40d3fdea3c9dc77b6e143f1bb9ad34fbd097967ccc4a26"
    }
   }
  }
 },
 "nbformat": 4,
 "nbformat_minor": 2,
 "cells": [
  {
   "cell_type": "code",
   "execution_count": 1,
   "metadata": {},
   "outputs": [
    {
     "output_type": "execute_result",
     "data": {
      "text/plain": "&lt;janome.tokenizer.Tokenizer at 0x655b9b8&gt;"
     },
     "metadata": {},
     "execution_count": 1
    }
   ],
   "source": [
    "from janome.tokenizer import Tokenizer\n",
    "t = Tokenizer()\n",
    "t"
   ]
  },
  {
   "cell_type": "code",
   "execution_count": 6,
   "metadata": {},
   "outputs": [],
   "source": [
    "text = '今日の気分は疲れてた気がする'\n",
    "tokens = t.tokenize(text, wakati=True)"
   ]
  },
  {
   "cell_type": "code",
   "execution_count": 7,
   "metadata": {
    "tags": []
   },
   "outputs": [
    {
     "output_type": "stream",
     "name": "stdout",
     "text": "今日\nの\n気分\nは\n疲れ\nて\nた\n気\nが\nする\n"
    }
   ],
   "source": [
    "for token in tokens:\n",
    "    print(token)"
   ]
  },
  {
   "cell_type": "code",
   "execution_count": 24,
   "metadata": {
    "tags": []
   },
   "outputs": [
    {
     "output_type": "stream",
     "name": "stdout",
     "text": "花\nが\nきれい\n花\nを\n育てる\nきれい\nに\n育て\nられ\nた\n"
    },
    {
     "output_type": "execute_result",
     "data": {
      "text/plain": "[&#39;花&#39;, &#39;が&#39;, &#39;きれい&#39;, &#39;花&#39;, &#39;を&#39;, &#39;育てる&#39;, &#39;きれい&#39;, &#39;に&#39;, &#39;育て&#39;, &#39;られ&#39;, &#39;た&#39;]"
     },
     "metadata": {},
     "execution_count": 24
    }
   ],
   "source": [
    "t = Tokenizer()\n",
    "sentences = [\n",
    "    '花がきれい','花を育てる','きれいに育てられた'\n",
    "]\n",
    "word_list = []\n",
    "for sentence in sentences:\n",
    "    tokens = t.tokenize(sentence, wakati=True)\n",
    "    for token in tokens:\n",
    "        word_list.append(token)\n",
    "        print(token)\n",
    "word_list\n"
   ]
  },
  {
   "cell_type": "code",
   "execution_count": null,
   "metadata": {},
   "outputs": [],
   "source": []
  }
 ]
}