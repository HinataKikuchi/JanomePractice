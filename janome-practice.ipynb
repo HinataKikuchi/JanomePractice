{
 "metadata": {
  "language_info": {
   "codemirror_mode": {
    "name": "ipython",
    "version": 3
   },
   "file_extension": ".py",
   "mimetype": "text/x-python",
   "name": "python",
   "nbconvert_exporter": "python",
   "pygments_lexer": "ipython3",
   "version": "3.6.8-final"
  },
  "orig_nbformat": 2,
  "kernelspec": {
   "name": "python36864bit123641f710d948cfac28fbe7508e2db7",
   "display_name": "Python 3.6.8 64-bit",
   "metadata": {
    "interpreter": {
     "hash": "c6a654e7da9346571e40d3fdea3c9dc77b6e143f1bb9ad34fbd097967ccc4a26"
    }
   }
  }
 },
 "nbformat": 4,
 "nbformat_minor": 2,
 "cells": [
  {
   "cell_type": "code",
   "execution_count": 8,
   "metadata": {},
   "outputs": [
    {
     "output_type": "execute_result",
     "data": {
      "text/plain": "&lt;janome.tokenizer.Tokenizer at 0x23297abb7b8&gt;"
     },
     "metadata": {},
     "execution_count": 8
    }
   ],
   "source": [
    "from janome.tokenizer import Tokenizer\n",
    "t = Tokenizer()\n",
    "t"
   ]
  },
  {
   "cell_type": "code",
   "execution_count": 9,
   "metadata": {},
   "outputs": [],
   "source": [
    "text = '今日の気分は疲れてた気がする'\n",
    "tokens = t.tokenize(text, wakati=True)"
   ]
  },
  {
   "cell_type": "code",
   "execution_count": 10,
   "metadata": {
    "tags": []
   },
   "outputs": [
    {
     "output_type": "stream",
     "name": "stdout",
     "text": "今日\nの\n気分\nは\n疲れ\nて\nた\n気\nが\nする\n"
    }
   ],
   "source": [
    "for token in tokens:\n",
    "    print(token)"
   ]
  },
  {
   "cell_type": "code",
   "execution_count": 61,
   "metadata": {
    "tags": []
   },
   "outputs": [
    {
     "output_type": "execute_result",
     "data": {
      "text/plain": "[&lt;generator object Tokenizer.__tokenize_stream at 0x00000232AACB1728&gt;,\n &lt;generator object Tokenizer.__tokenize_stream at 0x00000232AACB1BA0&gt;,\n &lt;generator object Tokenizer.__tokenize_stream at 0x00000232AACB1BF8&gt;]"
     },
     "metadata": {},
     "execution_count": 61
    }
   ],
   "source": [
    "t = Tokenizer()\n",
    "sentences = [\n",
    "    'おいしいビールを飲む','コーヒーを飲む','おいしいクラフトビールを買う'\n",
    "]\n",
    "words_list = []\n",
    "for sentence in sentences:\n",
    "    # 分かち書きした単語ごとの情報をwords_listに追加\n",
    "    words_list.append(list(t.tokenize(sentence, wakati=True)))\n",
    "words_list\n",
    "#t.tokenize(sentence, wakati=True)がイテレータなので表示がおかしくなるが\n",
    "# 別にnext(iter)として中身を取り出せば同じこと。まぁそれはめんどいんだけれども"
   ]
  },
  {
   "cell_type": "code",
   "execution_count": 62,
   "metadata": {},
   "outputs": [
    {
     "output_type": "execute_result",
     "data": {
      "text/plain": "[&#39;おいしい&#39;, &#39;ビール&#39;, &#39;を&#39;, &#39;飲む&#39;, &#39;コーヒー&#39;, &#39;クラフト&#39;, &#39;買う&#39;]"
     },
     "metadata": {},
     "execution_count": 62
    }
   ],
   "source": [
    "unique_words=[]\n",
    "for words in words_list:\n",
    "    # それぞれの文から1単語ずつ抜き取る。被った単語は追加しない\n",
    "    for word in words:\n",
    "        if word not in unique_words:\n",
    "            unique_words.append(word)\n",
    "unique_words"
   ]
  },
  {
   "cell_type": "code",
   "execution_count": 76,
   "metadata": {
    "tags": []
   },
   "outputs": [
    {
     "output_type": "execute_result",
     "data": {
      "text/plain": "[[0, 0, 0, 0, 0, 0, 0], [0, 0, 0, 0, 0, 0, 0], [0, 0, 0, 0, 0, 0, 0]]"
     },
     "metadata": {},
     "execution_count": 76
    }
   ],
   "source": [
    "# 検索分において先ほどの単語の出現回数をリストにしたい\n",
    "bow_list = []\n",
    "for words in words_list:\n",
    "    # この時点でwords_listがiterになってる。\n",
    "    bag_of_words = []\n",
    "    for unique_word in unique_words:\n",
    "        # wordsがgenerator扱いなのでcountが使えない。このせいで0のままカウントが最後まで回る。\n",
    "        num = words_list.count(unique_word)\n",
    "        bag_of_words.append(num)\n",
    "\n",
    "    bow_list.append(bag_of_words)\n",
    "bow_list"
   ]
  },
  {
   "cell_type": "code",
   "execution_count": null,
   "metadata": {},
   "outputs": [],
   "source": []
  }
 ]
}